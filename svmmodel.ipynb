{
  "nbformat": 4,
  "nbformat_minor": 0,
  "metadata": {
    "colab": {
      "name": "svmmodel.ipynb",
      "provenance": [],
      "authorship_tag": "ABX9TyOpQ/osKZmknDVG6tLHZBAn",
      "include_colab_link": true
    },
    "kernelspec": {
      "name": "python3",
      "display_name": "Python 3"
    },
    "language_info": {
      "name": "python"
    }
  },
  "cells": [
    {
      "cell_type": "markdown",
      "metadata": {
        "id": "view-in-github",
        "colab_type": "text"
      },
      "source": [
        "<a href=\"https://colab.research.google.com/github/HenriPett/SVMmodel/blob/main/svmmodel.ipynb\" target=\"_parent\"><img src=\"https://colab.research.google.com/assets/colab-badge.svg\" alt=\"Open In Colab\"/></a>"
      ]
    },
    {
      "cell_type": "code",
      "metadata": {
        "id": "Fh2AEmTwcvBP"
      },
      "source": [
        "#Esse codigo não é necessario rodar na GPU, ele é bem leve. O modelo teve 88% de acuracia."
      ],
      "execution_count": 74,
      "outputs": []
    },
    {
      "cell_type": "code",
      "metadata": {
        "id": "U3HW-4i3FrIp"
      },
      "source": [
        "#importando as funções que serão usadas\n",
        "\n",
        "from sklearn import datasets\n",
        "from sklearn import svm\n",
        "from sklearn.metrics import accuracy_score"
      ],
      "execution_count": 75,
      "outputs": []
    },
    {
      "cell_type": "code",
      "metadata": {
        "id": "DMDhRwDiN9ij"
      },
      "source": [
        "\"\"\"\n",
        "Baixando o Dataset e armazenando na variavel train_dataset. Esse dataset contem\n",
        "13233 imagens de pessoas e duas classes (Pessoas iguais e pessoas diferentes). Como\n",
        "possui apenas duas classes, é um dataset perfeito para uma classificação linear,\n",
        "onde sera possivel dividir todas fotos por uma linha em um grafico.\n",
        "Informações dos comandos: \n",
        "train_dataset.data = Dados puros das imagens (Ex: largura, altura, valores RGB, etc)\n",
        "train_dataset.target = dados das classificações (0, 1)\n",
        "train_dataset.target_names = Classificações em si (Pessoas iguais e pessoas diferentes)\n",
        "\"\"\"\n",
        "\n",
        "train_dataset = datasets.fetch_lfw_pairs(subset='train', color=False)"
      ],
      "execution_count": 76,
      "outputs": []
    },
    {
      "cell_type": "code",
      "metadata": {
        "id": "lai3wYgjOaEf"
      },
      "source": [
        "\"\"\"\n",
        "Aqui nós pegamos as classes do dataset (Pessoas iguais e pessoas diferentes), e\n",
        "colocamos-as em uma lista. Essa lista sera utilizada posteriormente para a classificação\n",
        "das imagens. Devo apontar que as classes vieram com o dataset em binarios (Pessoas iguais = 0; \n",
        "Pessoas diferentes = 1).\n",
        "\"\"\"\n",
        "\n",
        "labels = list(train_dataset.target_names)"
      ],
      "execution_count": 77,
      "outputs": []
    },
    {
      "cell_type": "code",
      "metadata": {
        "id": "t7qf-Y1bSC3_"
      },
      "source": [
        "#Pegando os dados puros e dividindo os valores por 255 para transforma-los em floats entre 0 e 1.\n",
        "\n",
        "train_data = train_dataset.data / 255"
      ],
      "execution_count": 78,
      "outputs": []
    },
    {
      "cell_type": "code",
      "metadata": {
        "id": "G5xvArYmQo53"
      },
      "source": [
        "#Inicializando o algoritmo classificador (SVM)\n",
        "\n",
        "classifier = svm.SVC()"
      ],
      "execution_count": 79,
      "outputs": []
    },
    {
      "cell_type": "code",
      "metadata": {
        "colab": {
          "base_uri": "https://localhost:8080/"
        },
        "id": "Kle9uMZpRX1p",
        "outputId": "8881d9b6-2504-4605-80c9-b3e682e86b0d"
      },
      "source": [
        "#Dando \"fit\" nos dados para futura predição.\n",
        "\n",
        "classifier.fit(train_data, train_dataset.target)"
      ],
      "execution_count": 80,
      "outputs": [
        {
          "output_type": "execute_result",
          "data": {
            "text/plain": [
              "SVC(C=1.0, break_ties=False, cache_size=200, class_weight=None, coef0=0.0,\n",
              "    decision_function_shape='ovr', degree=3, gamma='scale', kernel='rbf',\n",
              "    max_iter=-1, probability=False, random_state=None, shrinking=True,\n",
              "    tol=0.001, verbose=False)"
            ]
          },
          "metadata": {
            "tags": []
          },
          "execution_count": 80
        }
      ]
    },
    {
      "cell_type": "code",
      "metadata": {
        "id": "iaq9zEtWVW67"
      },
      "source": [
        "#Predizendo os dados e armazenando na variavel pred\n",
        "\n",
        "pred = classifier.predict(train_data)"
      ],
      "execution_count": 81,
      "outputs": []
    },
    {
      "cell_type": "code",
      "metadata": {
        "colab": {
          "base_uri": "https://localhost:8080/"
        },
        "id": "EZDOH33lhqfS",
        "outputId": "4c67197d-424e-419d-e820-388ea167aab1"
      },
      "source": [
        "\"\"\"\n",
        "Printando os arrays para facil entendimento. Para entender melhor, caso o modelo\n",
        "tivesse 100% acuracia, a variavel pred (variavel a qual foi armazenado a predição)\n",
        "e os dados do dataset seriam iguais, como não são, vemos diferença abaixo.\n",
        "\"\"\"\n",
        "\n",
        "print(pred)\n",
        "print(train_dataset.target)"
      ],
      "execution_count": 82,
      "outputs": [
        {
          "output_type": "stream",
          "text": [
            "[1 0 1 ... 0 0 1]\n",
            "[1 1 1 ... 0 0 0]\n"
          ],
          "name": "stdout"
        }
      ]
    },
    {
      "cell_type": "code",
      "metadata": {
        "id": "zZKWC5nCaXNv"
      },
      "source": [
        "#Transformando a variavel pred em lista para facil acesso depois.\n",
        "\n",
        "list_pred = list(pred)"
      ],
      "execution_count": 83,
      "outputs": []
    },
    {
      "cell_type": "code",
      "metadata": {
        "colab": {
          "base_uri": "https://localhost:8080/"
        },
        "id": "6FYYXglyVy2N",
        "outputId": "dd7d32a3-5aa6-443c-bb55-adbf05a29676"
      },
      "source": [
        "#Avaliando o modelo, comparando os dois arrays (O target e a predição) e determinando a acuracia.\n",
        "\n",
        "accuracy_score(train_dataset.target, pred)"
      ],
      "execution_count": 84,
      "outputs": [
        {
          "output_type": "execute_result",
          "data": {
            "text/plain": [
              "0.8863636363636364"
            ]
          },
          "metadata": {
            "tags": []
          },
          "execution_count": 84
        }
      ]
    },
    {
      "cell_type": "code",
      "metadata": {
        "colab": {
          "base_uri": "https://localhost:8080/"
        },
        "id": "TWs0rooKZhxP",
        "outputId": "69985993-b14a-4b56-ba7a-24c146446325"
      },
      "source": [
        "\"\"\"\n",
        "Usando um For loop para iterar pelas listas, assim mostrando a lista verdadeira \n",
        "e a predição feita pelo modelo. Eu peguei os 10 primeiro valores, para podermos ver\n",
        "a diferença entre eles. Em cima o alvo e em baixo a predição.\n",
        "\"\"\"\n",
        "\n",
        "x = 0\n",
        "for i in train_dataset.target:\n",
        "  if x <= 9:\n",
        "    print(labels[i])\n",
        "    x += 1\n",
        "\n",
        "print('*****************')\n",
        "\n",
        "y = 0\n",
        "for i in pred:\n",
        "  if y <= 9:\n",
        "    print(labels[i])\n",
        "    y += 1"
      ],
      "execution_count": 85,
      "outputs": [
        {
          "output_type": "stream",
          "text": [
            "Same person\n",
            "Same person\n",
            "Same person\n",
            "Same person\n",
            "Same person\n",
            "Same person\n",
            "Same person\n",
            "Same person\n",
            "Same person\n",
            "Same person\n",
            "*****************\n",
            "Same person\n",
            "Different persons\n",
            "Same person\n",
            "Same person\n",
            "Different persons\n",
            "Same person\n",
            "Same person\n",
            "Same person\n",
            "Same person\n",
            "Same person\n"
          ],
          "name": "stdout"
        }
      ]
    }
  ]
}